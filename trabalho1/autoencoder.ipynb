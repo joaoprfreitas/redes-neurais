{
 "cells": [
  {
   "cell_type": "markdown",
   "metadata": {},
   "source": [
    "## João Pedro Rodrigues Freitas - 11316552"
   ]
  },
  {
   "cell_type": "code",
   "execution_count": 350,
   "metadata": {},
   "outputs": [],
   "source": [
    "import numpy as np\n",
    "import matplotlib.pyplot as plt"
   ]
  },
  {
   "cell_type": "markdown",
   "metadata": {},
   "source": [
    "# TODO\n",
    "\n",
    "- Fazer os mini batches (train, test)\n",
    "- Fazer o one-hot\n",
    "- Terminar o autoencoder\n",
    "- Setar learning rate"
   ]
  },
  {
   "cell_type": "markdown",
   "metadata": {},
   "source": [
    "## Autoencoder"
   ]
  },
  {
   "cell_type": "code",
   "execution_count": 351,
   "metadata": {},
   "outputs": [],
   "source": [
    "class Autoencoder():\n",
    "\n",
    "    def __init__(self, layers: int) -> None:\n",
    "        self.layers = layers\n",
    "\n",
    "    def getLayers(self) -> int:\n",
    "        return self.layers\n",
    "\n",
    "    def setNeuronsByLayer(self, neurons: list[int]) -> None:\n",
    "        '''Recebe uma lista com o número de neurônios por camada'''\n",
    "        if len(neurons) != self.layers:\n",
    "            raise ValueError(\"The size of the list must be equal to the number of layers\")\n",
    "        self.neurons = neurons\n",
    "\n",
    "    def getNeuronsByLayer(self) -> list[int]:\n",
    "        return self.neurons\n",
    "    \n",
    "    def getNeuronsOfLayer(self, layer: int) -> int:\n",
    "        return self.neurons[layer]"
   ]
  },
  {
   "cell_type": "markdown",
   "metadata": {},
   "source": [
    "# Data"
   ]
  },
  {
   "cell_type": "code",
   "execution_count": 352,
   "metadata": {},
   "outputs": [],
   "source": [
    "class Data():\n",
    "\n",
    "    def __init__(self, X: np.ndarray, Y: np.ndarray) -> None:\n",
    "        if X.shape[0] != Y.shape[0]:\n",
    "            raise ValueError(\"The number of samples must be equal for X and Y\")\n",
    "\n",
    "        # Concatena X e Y em uma única matriz\n",
    "        Y = np.expand_dims(Y, axis=1)\n",
    "        self.data = np.concatenate((X, Y), axis=1)\n",
    "\n",
    "    def getData(self) -> np.ndarray:\n",
    "        return self.data\n",
    "    \n",
    "    def getX(self) -> np.ndarray:\n",
    "        return self.data[:,:-1]\n",
    "    \n",
    "    def getY(self) -> np.ndarray:\n",
    "        return self.data[:,-1]\n",
    "\n",
    "    def setTrainRatio(self, ratio: float) -> None:\n",
    "        self.train_ratio = ratio\n",
    "\n",
    "    def getTrainRatio(self) -> float:\n",
    "        return self.train_ratio\n",
    "    \n",
    "    def getAttrSize(self) -> int:\n",
    "        return self.data.shape[1] - 1\n",
    "    \n",
    "    def shuffleData(self) -> None:\n",
    "        self.data = np.random.permutation(self.data)\n",
    "\n",
    "    def normalize(self) -> None:\n",
    "        '''Normaliza cada atributo para o intervalo [0, 1]'''\n",
    "        for i in range(self.getAttrSize()):\n",
    "            self.data[:,i] = (self.data[:,i] - np.min(self.data[:,i])) / (np.max(self.data[:,i]) - np.min(self.data[:,i]))\n",
    "    \n",
    "    def plotData(self) -> None:\n",
    "        if self.getAttrSize() != 2:\n",
    "            raise ValueError(\"The number of attributes must be 2\")\n",
    "        \n",
    "        plt.scatter(self.data[:,0], self.data[:,1], c=self.data[:,-1])\n",
    "    "
   ]
  },
  {
   "cell_type": "code",
   "execution_count": 353,
   "metadata": {},
   "outputs": [],
   "source": [
    "def main() -> None:\n",
    "    X = np.vstack([np.random.normal(1, 0.5, [100,2]),\n",
    "                   np.random.normal(-2, 1, [100,2]),\n",
    "                   np.random.normal(3, 0.75, [100,2])])\n",
    "    \n",
    "    Y = np.hstack([np.zeros(100, dtype=int),\n",
    "                   np.ones(100, dtype=int),\n",
    "                   np.ones(100, dtype=int) + 1])\n",
    "\n",
    "    data = Data(X, Y)\n",
    "    # print(data.getData()[:5][:])\n",
    "    # print(np.max(data.getData()[:,0]))\n",
    "    data.normalize()\n",
    "    # print(data.getData()[:5][:])\n",
    "    data.shuffleData()\n",
    "    data.setTrainRatio(0.7)\n",
    "    \n",
    "\n",
    "    # print(data.getX().shape)\n",
    "    # print(data.getY().shape)\n",
    "\n",
    "    # data.plotData()\n",
    "\n",
    "    \n",
    "\n",
    "\n",
    "\n",
    "\n",
    "    "
   ]
  },
  {
   "cell_type": "code",
   "execution_count": 354,
   "metadata": {},
   "outputs": [],
   "source": [
    "if __name__ == \"__main__\":\n",
    "    main()"
   ]
  }
 ],
 "metadata": {
  "kernelspec": {
   "display_name": "Python 3",
   "language": "python",
   "name": "python3"
  },
  "language_info": {
   "codemirror_mode": {
    "name": "ipython",
    "version": 3
   },
   "file_extension": ".py",
   "mimetype": "text/x-python",
   "name": "python",
   "nbconvert_exporter": "python",
   "pygments_lexer": "ipython3",
   "version": "3.10.12"
  }
 },
 "nbformat": 4,
 "nbformat_minor": 2
}
